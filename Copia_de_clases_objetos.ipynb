{
  "nbformat": 4,
  "nbformat_minor": 0,
  "metadata": {
    "colab": {
      "name": "Copia de clases_objetos.ipynb",
      "provenance": [],
      "collapsed_sections": []
    },
    "kernelspec": {
      "name": "python3",
      "display_name": "Python 3"
    },
    "language_info": {
      "name": "python"
    }
  },
  "cells": [
    {
      "cell_type": "markdown",
      "metadata": {
        "id": "mn9EBjXiR6Z_"
      },
      "source": [
        "## TALLER\n",
        "\n",
        "1) Crear una clase para generar objetos\n",
        "\n",
        "- Gato\n",
        "\n",
        "2) Crear una clase para representar objetos\n",
        "\n",
        "- Moto\n",
        "\n",
        "NOTA: Estas clases se deben crar en COLAB\n",
        "\n",
        "\n",
        "\n",
        "3) Subir todo a Classroom, al espacio designado por el profesor en la segunda previa\n",
        "\n",
        "4) SUBIR ESTE MATERIAL A Github"
      ]
    },
    {
      "cell_type": "markdown",
      "metadata": {
        "id": "ebgVnmXHIipG"
      },
      "source": [
        "Estudiante:Santiago Gallego"
      ]
    },
    {
      "cell_type": "code",
      "metadata": {
        "id": "XzViN4HPhf5r",
        "colab": {
          "base_uri": "https://localhost:8080/"
        },
        "outputId": "c9c2d527-cc49-4b88-da2e-e60738d9c665"
      },
      "source": [
        "class Gato:\n",
        "  numero_patas = 4  \n",
        "  def __init__(self, raza, nombre, edad): \n",
        "    self.raza = raza\n",
        "    self.nombre = nombre\n",
        "    self.edad = edad\n",
        "  def maullar (self):\n",
        "    print(\"El gato está maullando: Miau !!!\")\n",
        "  def get_raza(self):\n",
        "    print(\"La raza del gato es =\", self.raza)\n",
        "  def get_nombre(self):\n",
        "    print(\"El nombre del gato es =\", self.nombre)\n",
        "  def get_edad(self): \n",
        "    print(\"La edad del gato es =\", self.edad)\n",
        "\n",
        "p = Gato(\"Persa\", \"Matias\", \"2 años\")\n",
        "p.maullar()\n",
        "p.get_raza()\n",
        "p.get_nombre()\n",
        "p.get_edad()\n",
        "\n",
        "print(\"Número de patas del gato =\", p.numero_patas)"
      ],
      "execution_count": null,
      "outputs": [
        {
          "output_type": "stream",
          "name": "stdout",
          "text": [
            "El gato está maullando: Miau !!!\n",
            "La raza del gato es = Persa\n",
            "El nombre del gato es = Matias\n",
            "La edad del gato es = 2 años\n",
            "Número de patas del gato = 4\n"
          ]
        }
      ]
    },
    {
      "cell_type": "code",
      "metadata": {
        "id": "6lDiH1YqiwC3",
        "colab": {
          "base_uri": "https://localhost:8080/"
        },
        "outputId": "0a3a93ea-1497-4cec-8037-ac0c5a95ab41"
      },
      "source": [
        "class Motocicleta:\n",
        "  def __init__(self, marca, modelo, tiempo_uso, color, Tipo): \n",
        "    self.marca = marca\n",
        "    self.modelo = modelo\n",
        "    self.tiempo_uso = tiempo_uso\n",
        "    self.color = color\n",
        "    self.Tipo = Tipo\n",
        "  \n",
        "  def get_marca(self):\n",
        "    print(\"La marca de la motocicleta es =\", self.marca)\n",
        "  def get_modelo(self): \n",
        "    print(\"El modelo de la motociclieta es =\", self.modelo)\n",
        "  def get_tiempo_uso(self): \n",
        "    print(\"El tiempo de uso de la motocicleta es =\", self.tiempo_uso)\n",
        "  def get_color(self):\n",
        "    print(\"El color de la moto es =\", self.color)\n",
        "  def get_Tipo(self):\n",
        "    print(\"La moto es =\", self.Tipo)\n",
        "\n",
        "\n",
        "p = Motocicleta (\"Ducati\", 2017, \"2 años\", \"Azul\", \"automática\" )\n",
        "\n",
        "p.get_marca()\n",
        "p.get_modelo()\n",
        "p.get_tiempo_uso()\n",
        "p.get_color()\n",
        "p.get_Tipo()\n",
        "\n"
      ],
      "execution_count": null,
      "outputs": [
        {
          "output_type": "stream",
          "name": "stdout",
          "text": [
            "La marca de la motocicleta es = Ducati\n",
            "El modelo de la motociclieta es = 2017\n",
            "El tiempo de uso de la motocicleta es = 2 años\n",
            "El color de la moto es = Azul\n",
            "La moto es = automática\n"
          ]
        }
      ]
    }
  ]
}