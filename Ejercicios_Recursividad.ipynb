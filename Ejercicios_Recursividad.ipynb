{
  "nbformat": 4,
  "nbformat_minor": 0,
  "metadata": {
    "colab": {
      "name": "Ejercicios_Recursividad.ipynb",
      "provenance": [],
      "collapsed_sections": []
    },
    "kernelspec": {
      "name": "python3",
      "display_name": "Python 3"
    },
    "language_info": {
      "name": "python"
    }
  },
  "cells": [
    {
      "cell_type": "code",
      "execution_count": 8,
      "metadata": {
        "colab": {
          "base_uri": "https://localhost:8080/"
        },
        "id": "kzZIBPV7BtfA",
        "outputId": "fa05477b-0fb0-4164-9ec4-7b2393d39e11"
      },
      "outputs": [
        {
          "output_type": "stream",
          "name": "stdout",
          "text": [
            "236\n"
          ]
        }
      ],
      "source": [
        "class Nodo:\n",
        "  def __init__ (self, dato):\n",
        "    self.contenido = dato\n",
        "    self.izquierda = None\n",
        "    self.derecha = None\n",
        "\n",
        "cabeza = Nodo(15)\n",
        "\n",
        "cabeza.izquierda = Nodo(8)\n",
        "cabeza.derecha = Nodo(25)\n",
        "\n",
        "cabeza.izquierda.izquierda = Nodo(5)\n",
        "cabeza.izquierda.derecha = Nodo(11)\n",
        "\n",
        "cabeza.izquierda.izquierda.izquierda =Nodo(3)\n",
        "cabeza.izquierda.izquierda.derecha = Nodo(4)\n",
        "\n",
        "cabeza.izquierda.derecha.izquierda= Nodo(9)\n",
        "cabeza.izquierda.derecha.derecha = Nodo(12)\n",
        "\n",
        "cabeza.derecha.izquierda = Nodo(21)\n",
        "cabeza.derecha.derecha = Nodo(28)\n",
        "\n",
        "cabeza.derecha.izquierda.izquierda = Nodo(16)\n",
        "cabeza.derecha.izquierda.derecha = Nodo(23)\n",
        "\n",
        "cabeza.derecha.derecha.izquierda = Nodo(27)\n",
        "cabeza.derecha.derecha.derecha =Nodo(29) \n",
        "\n",
        "def suma_nodos ( nodo ):\n",
        "  if ( nodo == None ):\n",
        "    return 0\n",
        "  return nodo.contenido + suma_nodos(nodo.izquierda) + suma_nodos(nodo.derecha)\n",
        "\n",
        "print ( suma_nodos ( cabeza ) )"
      ]
    },
    {
      "cell_type": "code",
      "source": [
        "class Nodo:\n",
        "  def __init__ (self, dato):\n",
        "    self.contenido = dato\n",
        "    self.izquierda = None\n",
        "    self.derecha = None\n",
        "\n",
        "cabeza = Nodo(15)\n",
        "\n",
        "cabeza.izquierda = Nodo(8)\n",
        "cabeza.derecha = Nodo(25)\n",
        "\n",
        "cabeza.izquierda.izquierda = Nodo(5)\n",
        "cabeza.izquierda.derecha = Nodo(11)\n",
        "\n",
        "cabeza.izquierda.izquierda.izquierda =Nodo(3)\n",
        "cabeza.izquierda.izquierda.derecha = Nodo(4)\n",
        "\n",
        "cabeza.izquierda.derecha.izquierda= Nodo(9)\n",
        "cabeza.izquierda.derecha.derecha = Nodo(12)\n",
        "\n",
        "cabeza.derecha.izquierda = Nodo(21)\n",
        "cabeza.derecha.derecha = Nodo(28)\n",
        "\n",
        "cabeza.derecha.izquierda.izquierda = Nodo(16)\n",
        "cabeza.derecha.izquierda.derecha = Nodo(23)\n",
        "\n",
        "cabeza.derecha.derecha.izquierda = Nodo(27)\n",
        "cabeza.derecha.derecha.derecha =Nodo(29) \n",
        "\n",
        "def Nodo_mayor ( nodo, valor ):\n",
        "  if ( nodo == None ):\n",
        "    return valor\n",
        "  if ( nodo.contenido > valor ):\n",
        "    valor = nodo.contenido\n",
        "  n1 = Nodo_mayor ( nodo.izquierda, valor )\n",
        "  n2 = Nodo_mayor ( nodo.derecha, valor )\n",
        "  if ( n1 > n2 ):\n",
        "    return n1\n",
        "  else:\n",
        "    return n2\n",
        "\n",
        "print ( Nodo_mayor ( cabeza, cabeza.contenido ) )"
      ],
      "metadata": {
        "colab": {
          "base_uri": "https://localhost:8080/"
        },
        "id": "pede7K3PI6EL",
        "outputId": "5cc4add7-0be9-4657-b3f8-c2401e4cf531"
      },
      "execution_count": 10,
      "outputs": [
        {
          "output_type": "stream",
          "name": "stdout",
          "text": [
            "29\n"
          ]
        }
      ]
    },
    {
      "cell_type": "code",
      "source": [
        "class Nodo:\n",
        "  def __init__ (self, dato):\n",
        "    self.contenido = dato\n",
        "    self.izquierda = None\n",
        "    self.derecha = None\n",
        "\n",
        "cabeza = Nodo(15)\n",
        "\n",
        "cabeza.izquierda = Nodo(8)\n",
        "cabeza.derecha = Nodo(25)\n",
        "\n",
        "cabeza.izquierda.izquierda = Nodo(5)\n",
        "cabeza.izquierda.derecha = Nodo(11)\n",
        "\n",
        "cabeza.izquierda.izquierda.izquierda =Nodo(3)\n",
        "cabeza.izquierda.izquierda.derecha = Nodo(4)\n",
        "\n",
        "cabeza.izquierda.derecha.izquierda= Nodo(9)\n",
        "cabeza.izquierda.derecha.derecha = Nodo(12)\n",
        "\n",
        "cabeza.derecha.izquierda = Nodo(21)\n",
        "cabeza.derecha.derecha = Nodo(28)\n",
        "\n",
        "cabeza.derecha.izquierda.izquierda = Nodo(16)\n",
        "cabeza.derecha.izquierda.derecha = Nodo(23)\n",
        "\n",
        "cabeza.derecha.derecha.izquierda = Nodo(27)\n",
        "cabeza.derecha.derecha.derecha =Nodo(29) \n",
        "\n",
        "def buscar_nodo ( nodo, valor ):\n",
        "  if ( nodo == None ):\n",
        "    return False\n",
        "  if ( nodo.contenido == valor ):\n",
        "    return True\n",
        "  else:\n",
        "    aux1 = buscar_nodo ( nodo.izquierda, valor )\n",
        "    if ( aux1 == True ):\n",
        "      return True\n",
        "    else:\n",
        "      aux2 = buscar_nodo ( nodo.derecha, valor )\n",
        "      return aux2\n",
        "\n",
        "if ( buscar_nodo ( cabeza, 5 ) == True ):\n",
        "  print (\"Si es un valor del arbol\")\n",
        "else:\n",
        "  print (\"NO existe tl valor en el arbol\")"
      ],
      "metadata": {
        "colab": {
          "base_uri": "https://localhost:8080/"
        },
        "id": "Ixw9zUeNJlZl",
        "outputId": "c261d63c-f0ad-4b27-ccbf-30219d33cb26"
      },
      "execution_count": 13,
      "outputs": [
        {
          "output_type": "stream",
          "name": "stdout",
          "text": [
            "Si es un valor del arbol\n"
          ]
        }
      ]
    }
  ]
}